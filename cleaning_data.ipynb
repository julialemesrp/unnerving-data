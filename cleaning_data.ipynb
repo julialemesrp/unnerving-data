{
 "cells": [
  {
   "cell_type": "code",
   "execution_count": 1,
   "metadata": {},
   "outputs": [],
   "source": [
    "import pandas as pd"
   ]
  },
  {
   "cell_type": "code",
   "execution_count": null,
   "metadata": {},
   "outputs": [],
   "source": [
    "df = pd.read_excel(r\"C:\\Users\\julia\\Downloads\\winners-grammy.xlsx\")\n",
    "df"
   ]
  },
  {
   "cell_type": "code",
   "execution_count": null,
   "metadata": {},
   "outputs": [],
   "source": [
    "df[[\"Song_ROTY\", \"Artist_ROTY\"]] = df[\"record of the year\"].str.split(\",\", n=1, expand=True)\n",
    "df[[\"Song_SOTY\", 'Artist_SOTY']] = df['song of the year**'].str.split(\",\", n=1, expand=True)\n",
    "df[[\"Album_AOTY\", \"Artist_AOTY\"]] = df[\"album of the year\"].str.split(\",\", n=1, expand=True)"
   ]
  },
  {
   "cell_type": "code",
   "execution_count": null,
   "metadata": {},
   "outputs": [],
   "source": [
    "df[\"Song_ROTY\"] = df[\"Song_ROTY\"].str.lstrip('\"')\n",
    "df[\"Artist_ROTY\"] = df[\"Artist_ROTY\"].str.lstrip(\"'\")\n",
    "df[\"Artist_ROTY\"] = df[\"Artist_ROTY\"].str.lstrip('\"')\n",
    "df[\"Song_SOTY\"] = df[\"Song_SOTY\"].str.lstrip('\"')\n",
    "df[\"Artist_SOTY\"] = df[\"Artist_SOTY\"].str.lstrip('\"')\n",
    "df"
   ]
  },
  {
   "cell_type": "code",
   "execution_count": null,
   "metadata": {},
   "outputs": [],
   "source": [
    "df = df.drop(columns = [\"Artist\", \"record of the year\", \"song of the year**\", \"album of the year\"])"
   ]
  },
  {
   "cell_type": "code",
   "execution_count": 35,
   "metadata": {},
   "outputs": [],
   "source": [
    "df.to_excel(\"grammy-winners.xlsx\")"
   ]
  }
 ],
 "metadata": {
  "kernelspec": {
   "display_name": "Python 3",
   "language": "python",
   "name": "python3"
  },
  "language_info": {
   "codemirror_mode": {
    "name": "ipython",
    "version": 3
   },
   "file_extension": ".py",
   "mimetype": "text/x-python",
   "name": "python",
   "nbconvert_exporter": "python",
   "pygments_lexer": "ipython3",
   "version": "3.11.8"
  }
 },
 "nbformat": 4,
 "nbformat_minor": 2
}
